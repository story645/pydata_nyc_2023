{
 "cells": [
  {
   "cell_type": "markdown",
   "id": "676728af-4fac-4794-8746-413d00634805",
   "metadata": {},
   "source": [
    "In this notebook, we use our knowledge of artists to build an animation. \n",
    "\n",
    "We reuse the charts from the [static](N1_static_solution.ipynb) notebook for the sake of time. \n",
    "\n",
    "see also:\n",
    "- https://matplotlib.org/devdocs/users/explain/animations/index.html"
   ]
  },
  {
   "cell_type": "code",
   "execution_count": null,
   "id": "f217973d-f4a9-4e8c-aa41-0dd4c898e6e9",
   "metadata": {},
   "outputs": [],
   "source": [
    "%matplotlib inline\n",
    "\n",
    "import pandas as pd\n",
    "import matplotlib.pyplot as plt"
   ]
  },
  {
   "cell_type": "code",
   "execution_count": null,
   "id": "4d0b43d0-79c9-4e71-8c84-d3d68166f00f",
   "metadata": {},
   "outputs": [],
   "source": [
    "#load the palmer's dataset, drop missing values, and check which of our variables are numbers\n",
    "df = pd.read_csv(\"data/penguins.csv\").dropna()"
   ]
  },
  {
   "cell_type": "code",
   "execution_count": null,
   "id": "aacb1983-d157-47dd-85cb-51b4041c9bd4",
   "metadata": {},
   "outputs": [],
   "source": [
    "#we're gonna rearrange the figure to see it nicer \n",
    "fig, axd = plt.subplot_mosaic([['heatmap', 'scatter'],['heatmap', 'bar']], layout='constrained', figsize=(10,5))\n",
    "\n",
    "### all code from above\n",
    "im = axd['heatmap'].pcolormesh(df[['bill_length_mm', 'bill_depth_mm', 'flipper_length_mm']])\n",
    "cax = fig.colorbar(im)\n",
    "axd['heatmap'].set_xticks([.5, 1.5, 2.5])\n",
    "axd['heatmap'].set_xticklabels(['bill_length_mm', 'bill_depth_mm', 'flipper_length_mm'])\n",
    "\n",
    "# lets encode all the things! let's also play w/ this\n",
    "\n",
    "cat_for_color = df['island'].astype('category')\n",
    "sc = axd['scatter'].scatter('bill_length_mm', 'bill_depth_mm', s='flipper_length_mm', c=cat_for_color.cat.codes, alpha=.5, ec='k', data =df)\n",
    "handles, labels = sc.legend_elements()\n",
    "# https://matplotlib.org/stable/users/explain/axes/legend_guide.html\n",
    "axd['scatter'].legend(handles, cat_for_color.cat.categories, ncol=3, loc='upper center')\n",
    "\n",
    "# lets add a bar chart\n",
    "dfquant = ['bill_length_mm', 'bill_depth_mm', 'flipper_length_mm']\n",
    "axd['bar'].bar(dfquant, df[dfquant].mean())\n",
    "axd['bar'].set_ylabel(\"mm\")"
   ]
  },
  {
   "cell_type": "code",
   "execution_count": null,
   "id": "c48d99ed-2cd8-492e-8356-2304f3368b09",
   "metadata": {},
   "outputs": [],
   "source": [
    "#we're gonna rearrange the figure to see it nicer \n",
    "fig, axd = plt.subplot_mosaic([['heatmap', 'scatter'],['heatmap', 'bar']], layout='constrained', figsize=(10,5))\n",
    "\n",
    "dfquant = ['bill_length_mm', 'bill_depth_mm', 'flipper_length_mm']\n",
    "\n",
    "### all code from above\n",
    "im = axd['heatmap'].pcolormesh(df[dfquant])\n",
    "cax = fig.colorbar(im)\n",
    "axd['heatmap'].set_xticks([.5, 1.5, 2.5])\n",
    "axd['heatmap'].set_xticklabels(dfquant)\n",
    "\n",
    "# lets encode all the things! let's also play w/ this\n",
    "\n",
    "cat_for_color = df['island'].astype('category')\n",
    "sc = axd['scatter'].scatter('bill_length_mm', 'bill_depth_mm', s='flipper_length_mm', c=cat_for_color.cat.codes, alpha=.5, ec='k', data =df)\n",
    "handles, labels = sc.legend_elements()\n",
    "# https://matplotlib.org/stable/users/explain/axes/legend_guide.html\n",
    "axd['scatter'].legend(handles, cat_for_color.cat.categories, ncol=3, loc='upper center')\n",
    "\n",
    "# lets add a bar chart\n",
    "\n",
    "axd['bar'].bar(dfquant, df[dfquant].mean())\n",
    "axd['bar'].set_ylabel(\"mm\")\n",
    "\n",
    "### lets highlight one penguin!\n",
    "cats = {c:i for i, c in enumerate(cat_for_color.cat.categories)}\n",
    "penguin = df.sample(1, random_state=19680801)\n",
    "axd['heatmap'].axhline(penguin.index[0], color='red', alpha=.75)\n",
    "# how do we select one point in the scatter\n",
    "# how do we select plot a bar chart on top of our existing chart"
   ]
  },
  {
   "cell_type": "code",
   "execution_count": null,
   "id": "fda9f36b-3b54-4dd5-b3f1-d24a607ae653",
   "metadata": {},
   "outputs": [],
   "source": [
    "import matplotlib.animation as animation\n",
    "from IPython.display import HTML"
   ]
  },
  {
   "cell_type": "code",
   "execution_count": null,
   "id": "239fb754-3386-45ca-8a7c-263e3096b380",
   "metadata": {},
   "outputs": [],
   "source": [
    "# we use a subset here to speed up rendering\n",
    "fig, axd = plt.subplot_mosaic([['heatmap', 'scatter'],['heatmap', 'bar']], layout='constrained', figsize=(10,5))\n",
    "\n",
    "dfquant = ['bill_length_mm', 'bill_depth_mm', 'flipper_length_mm']\n",
    "\n",
    "### all code from above\n",
    "im = axd['heatmap'].pcolormesh(df[dfquant])\n",
    "cax = fig.colorbar(im)\n",
    "axd['heatmap'].set_xticks([.5, 1.5, 2.5])\n",
    "axd['heatmap'].set_xticklabels(dfquant)\n",
    "\n",
    "# lets encode all the things! let's also play w/ this\n",
    "\n",
    "cat_for_color = df['island'].astype('category')\n",
    "sc = axd['scatter'].scatter('bill_length_mm', 'bill_depth_mm', s='flipper_length_mm', c=cat_for_color.cat.codes, alpha=.5, ec='k', data =df)\n",
    "handles, labels = sc.legend_elements()\n",
    "# https://matplotlib.org/stable/users/explain/axes/legend_guide.html\n",
    "axd['scatter'].legend(handles, cat_for_color.cat.categories, ncol=3, loc='upper center')\n",
    "\n",
    "# lets add a bar chart\n",
    "\n",
    "axd['bar'].bar(dfquant, df[dfquant].mean())\n",
    "axd['bar'].set_ylabel(\"mm\")\n",
    "\n",
    "\n",
    "#lets make the first objects that we'll update\n",
    "h = axd['heatmap'].axhline(0, color='red', alpha=.75)\n",
    "s = axd['scatter'].scatter('bill_length_mm', 'bill_depth_mm', s='flipper_length_mm', c=cats[df['island'][0]], alpha=.5, ec='r', linewidth=2, data=df.iloc[0])\n",
    "b = axd['bar'].bar(dfquant, df[dfquant].iloc[0], color='none', ec='r', lw=2)\n",
    "\n",
    "def update(frame):\n",
    "    if frame not in df.index:\n",
    "        return\n",
    "    # update heatmap\n",
    "    # update scatter\n",
    "    # update bar\n",
    "    return h, s, b\n",
    "\n",
    "ani = animation.FuncAnimation(fig=fig, func=update, frames=df.index)\n",
    "HTML(ani.to_jshtml())"
   ]
  },
  {
   "cell_type": "code",
   "execution_count": null,
   "id": "7641f829-f106-4513-9199-3b09ed283998",
   "metadata": {},
   "outputs": [],
   "source": []
  }
 ],
 "metadata": {
  "kernelspec": {
   "display_name": "Python 3 (ipykernel)",
   "language": "python",
   "name": "python3"
  },
  "language_info": {
   "codemirror_mode": {
    "name": "ipython",
    "version": 3
   },
   "file_extension": ".py",
   "mimetype": "text/x-python",
   "name": "python",
   "nbconvert_exporter": "python",
   "pygments_lexer": "ipython3",
   "version": "3.11.6"
  }
 },
 "nbformat": 4,
 "nbformat_minor": 5
}
