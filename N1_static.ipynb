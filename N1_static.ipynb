{
 "cells": [
  {
   "attachments": {},
   "cell_type": "markdown",
   "id": "7d2899dd-4fd2-459e-be3b-f05f8701fc87",
   "metadata": {},
   "source": [
    "In this notebook, we learn how Matplotlib conceptualizes a visualization and what things are called. \n",
    "\n",
    "We learn how to create figures (total drawing areas), axes (data plotting regions), plot data, and how to label things. \n",
    "\n",
    "In particular, we will create the following:\n",
    "\n",
    "* https://matplotlib.org/stable/plot_types/arrays/pcolormesh.html#sphx-glr-plot-types-arrays-pcolormesh-py\n",
    "* https://matplotlib.org/stable/plot_types/basic/scatter_plot.html#sphx-glr-plot-types-basic-scatter-plot-py\n",
    "* https://matplotlib.org/stable/plot_types/basic/bar.html#sphx-glr-plot-types-basic-bar-py\n",
    "\n",
    "see also: \n",
    "- https://matplotlib.org/cheatsheets/\n",
    "- https://matplotlib.org/stable/users/index.html"
   ]
  },
  {
   "cell_type": "code",
   "execution_count": null,
   "id": "71e22d7a-c2f3-4122-8b7b-4e7bfc304c88",
   "metadata": {},
   "outputs": [],
   "source": [
    "# import matplotlib for viz and pandas for loading data\n",
    "%matplotlib inline\n",
    "\n",
    "import pandas as pd\n",
    "import matplotlib.pyplot as plt"
   ]
  },
  {
   "cell_type": "code",
   "execution_count": null,
   "id": "a3de6bf6-e480-429c-9011-9602f1c5c3ab",
   "metadata": {},
   "outputs": [],
   "source": [
    "#load the palmer's dataset, drop missing values, and check which of our variables are numbers\n",
    "\n",
    "df = pd.read_csv(\"data/penguins.csv\").dropna()\n",
    "df.info()"
   ]
  },
  {
   "cell_type": "code",
   "execution_count": null,
   "id": "a018696b-8468-4577-8452-321b19478509",
   "metadata": {},
   "outputs": [],
   "source": [
    "# let's make our drawing area using https://matplotlib.org/stable/users/explain/axes/axes_intro.html\n",
    "# the subplot method returns a Figure object and axes object(s)\n",
    "# axes go inside a figure because the figure is the abstraction of the canvas/total drawing area\n",
    "fig, ax = plt.subplots() "
   ]
  },
  {
   "cell_type": "code",
   "execution_count": null,
   "id": "6f5a8cff-89b5-47c2-983a-c4e93c678c84",
   "metadata": {},
   "outputs": [],
   "source": [
    "# let's plot our numerical values-> we use pcolormesh because it stretches the rows so we can see the colors\n",
    "# data visualization methods (algorithms/idioms) are methods on ax because the Axes is the abstraction of a plotting region\n",
    "fig, ax = plt.subplots()\n",
    "ax.pcolormesh(df[['bill_length_mm', 'bill_depth_mm', 'flipper_length_mm']])"
   ]
  },
  {
   "cell_type": "code",
   "execution_count": null,
   "id": "dfa8d12b-967a-440c-bf57-42ac06ed7ad9",
   "metadata": {},
   "outputs": [],
   "source": [
    "# what do the colors MEAN? \n",
    "# the base matplotlib object is an Artist - Artists manage the data and behavior of each visual element in the image\n",
    "# Which elements of this image are artists? \n",
    "fig, ax = plt.subplots()\n",
    "im = ax.pcolormesh(df[['bill_length_mm', 'bill_depth_mm', 'flipper_length_mm']])\n",
    "fig.colorbar(im)"
   ]
  },
  {
   "cell_type": "code",
   "execution_count": null,
   "id": "66c15c13-8a2c-4584-8089-83a07e348821",
   "metadata": {},
   "outputs": [],
   "source": [
    "# We can change the color and how things are mapped ->https://matplotlib.org/stable/users/explain/colors/index.html\n",
    "# let's choose one from https://matplotlib.org/stable/users/explain/colors/colormaps.html#classes-of-colormaps\n",
    "cmap = None\n",
    "plt.get_cmap(cmap)"
   ]
  },
  {
   "cell_type": "code",
   "execution_count": null,
   "id": "01a27ac1-77e6-4646-97ca-71838c4f8b55",
   "metadata": {},
   "outputs": [],
   "source": [
    "fig, ax = plt.subplots()\n",
    "im = ax.pcolormesh(df[['bill_length_mm', 'bill_depth_mm', 'flipper_length_mm']], cmap=cmap)\n",
    "fig.colorbar(im)"
   ]
  },
  {
   "cell_type": "code",
   "execution_count": null,
   "id": "160fab3a-15ea-48cc-8b7b-60fff06f1664",
   "metadata": {},
   "outputs": [],
   "source": [
    "# let's adjust the mapping https://matplotlib.org/stable/users/explain/colors/colormapnorms.html#sphx-glr-users-explain-colors-colormapnorms-py\n",
    "fig, ax = plt.subplots()\n",
    "im = ax.pcolormesh(df[['bill_length_mm', 'bill_depth_mm', 'flipper_length_mm']], cmap=cmap, vmin=50, vmax=200)\n",
    "fig.colorbar(im)"
   ]
  },
  {
   "cell_type": "code",
   "execution_count": null,
   "id": "fd900e6c-6d88-49d2-b046-97f07cee1042",
   "metadata": {},
   "outputs": [],
   "source": [
    "# lets label things!\n",
    "# Axes artists, such as `ax` and the colorbar have labeling methods https://matplotlib.org/stable/users/explain/axes/axes_intro.html#axes-labelling-and-annotation\n",
    "\n",
    "fig, ax = plt.subplots()\n",
    "im = ax.pcolormesh(df[['bill_length_mm', 'bill_depth_mm', 'flipper_length_mm']])\n",
    "cax = fig.colorbar(im)\n",
    "ax.set_xticks([.5, 1.5, 2.5])\n",
    "ax.set_xticklabels(['bill_length_mm', 'bill_depth_mm', 'flipper_length_mm'])\n",
    "cax.set_label(\"mm\")\n",
    "# how do you think we can get rid of the y ticks?\n",
    "# how can we label the y axis?\n"
   ]
  },
  {
   "cell_type": "code",
   "execution_count": null,
   "id": "56d3d8a2-c016-49e1-a40e-c5dc71b67d0a",
   "metadata": {},
   "outputs": [],
   "source": [
    "# How can we see if there's a pattern between the three variables?\n",
    "# we use semantic layout here to help us keep track of what we're putting where https://matplotlib.org/stable/users/explain/axes/mosaic.html\n",
    "# figsize is (width, height)\n",
    "fig, axd = plt.subplot_mosaic([['heatmap', 'scatter']], layout='constrained', figsize=(9,3))\n",
    "\n",
    "### all code from above\n",
    "im = axd['heatmap'].pcolormesh(df[['bill_length_mm', 'bill_depth_mm', 'flipper_length_mm']])\n",
    "cax = fig.colorbar(im)\n",
    "axd['heatmap'].set_xticks([.5, 1.5, 2.5])\n",
    "axd['heatmap'].set_xticklabels(['bill_length_mm', 'bill_depth_mm', 'flipper_length_mm'])\n",
    "\n",
    "# lets encode all the things! let's also play w/ this\n",
    "# and label things https://matplotlib.org/stable/gallery/lines_bars_and_markers/scatter_with_legend.html\n",
    "\n",
    "cat_for_color = df['island'].astype('category')\n",
    "sc = axd['scatter'].scatter('bill_length_mm', 'bill_depth_mm', s='flipper_length_mm', c=cat_for_color.cat.codes, alpha=.5, ec='k', data =df)\n",
    "handles, labels = sc.legend_elements()\n",
    "axd['scatter'].legend(handles, cat_for_color.cat.categories)"
   ]
  },
  {
   "cell_type": "code",
   "execution_count": null,
   "id": "05ee00d2-62ee-46b3-bce6-b5773feca7b7",
   "metadata": {},
   "outputs": [],
   "source": [
    "fig, axd = plt.subplot_mosaic([['heatmap', 'scatter', 'bar']], layout='constrained', figsize=(15,3))\n",
    "\n",
    "### all code from above\n",
    "im = axd['heatmap'].pcolormesh(df[['bill_length_mm', 'bill_depth_mm', 'flipper_length_mm']])\n",
    "cax = fig.colorbar(im)\n",
    "axd['heatmap'].set_xticks([.5, 1.5, 2.5])\n",
    "axd['heatmap'].set_xticklabels(['bill_length_mm', 'bill_depth_mm', 'flipper_length_mm'])\n",
    "\n",
    "# lets encode all the things! let's also play w/ this\n",
    "axd['scatter'].scatter('bill_length_mm', 'bill_depth_mm', s='flipper_length_mm', c=cat_for_color.cat.codes, alpha=.5, ec='k', data =df)\n",
    "handles, labels = sc.legend_elements()\n",
    "axd['scatter'].legend(handles, cat_for_color.cat.categories)\n",
    "\n",
    "# lets add a bar char"
   ]
  },
  {
   "cell_type": "code",
   "execution_count": null,
   "id": "81d8029a-4f6e-4ba2-904f-1bf880398081",
   "metadata": {},
   "outputs": [],
   "source": []
  }
 ],
 "metadata": {
  "kernelspec": {
   "display_name": "Python 3 (ipykernel)",
   "language": "python",
   "name": "python3"
  },
  "language_info": {
   "codemirror_mode": {
    "name": "ipython",
    "version": 3
   },
   "file_extension": ".py",
   "mimetype": "text/x-python",
   "name": "python",
   "nbconvert_exporter": "python",
   "pygments_lexer": "ipython3",
   "version": "3.11.6"
  }
 },
 "nbformat": 4,
 "nbformat_minor": 5
}
