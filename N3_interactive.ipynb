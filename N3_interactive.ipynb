{
 "cells": [
  {
   "cell_type": "markdown",
   "id": "6db2287b-3c50-408a-97f1-f33288968b41",
   "metadata": {},
   "source": [
    "In this notebook, we demonstrated using the interactivity provided by matplotlib, jupyter, and the matplotlib event system. \n",
    "We reuse the charts from the [animation](N2_animated_solution.ipynb) notebook for the sake of time. "
   ]
  },
  {
   "cell_type": "code",
   "execution_count": null,
   "id": "af906095-1c99-4cff-a021-90845174415b",
   "metadata": {},
   "outputs": [],
   "source": [
    "# import matplotlib for viz and pandas for loading data\n",
    "%matplotlib widget \n",
    "\n",
    "import pandas as pd\n",
    "import matplotlib.pyplot as plt"
   ]
  },
  {
   "cell_type": "code",
   "execution_count": null,
   "id": "134c89ac-7220-448d-a48b-820a728cdfc5",
   "metadata": {},
   "outputs": [],
   "source": [
    "df = pd.read_csv(\"data/penguins.csv\").dropna()\n",
    "cat_for_color = df['island'].astype('category')\n",
    "cats = {c:i for i, c in enumerate(cat_for_color.cat.categories)}\n",
    "# overcomplicating but this is how we can get the colors we were using in the other examples\n",
    "import matplotlib as mpl\n",
    "import matplotlib.colors as mcolors\n",
    "cmap = mpl.colormaps['viridis']\n",
    "norm = mcolors.Normalize(cat_for_color.cat.codes.min(), cat_for_color.cat.codes.max())"
   ]
  },
  {
   "cell_type": "code",
   "execution_count": null,
   "id": "cbd9b650-e28a-48bd-a51a-a71ac8de3909",
   "metadata": {},
   "outputs": [],
   "source": [
    "fig, axd = plt.subplot_mosaic([df['island'].unique()], sharex=True, sharey=True, figsize=(9,3))\n",
    "\n",
    "for g, gdf in df.groupby('island'):\n",
    "    axd[g].scatter('bill_length_mm', 'bill_depth_mm', s='flipper_length_mm', alpha=.5, color=cmap(norm(cats[g])), ec='k', linewidth=2, data=gdf)\n",
    "    axd[g].set_title(g)"
   ]
  },
  {
   "cell_type": "code",
   "execution_count": null,
   "id": "ccabe865-5849-4c8c-8880-105bf1ede138",
   "metadata": {},
   "outputs": [],
   "source": [
    "# we can use widgets to easily change an animation to an interaction https://ipywidgets.readthedocs.io/en/latest/index.html\n",
    "from ipywidgets import interact\n",
    "\n",
    "fig, axd = plt.subplot_mosaic([['heatmap', 'scatter'],['heatmap', 'bar']], layout='constrained', figsize=(10,5))\n",
    "\n",
    "dfquant = ['bill_length_mm', 'bill_depth_mm', 'flipper_length_mm']\n",
    "\n",
    "### all code from above\n",
    "im = axd['heatmap'].pcolormesh(df[dfquant])\n",
    "cax = fig.colorbar(im)\n",
    "axd['heatmap'].set_xticks([.5, 1.5, 2.5])\n",
    "axd['heatmap'].set_xticklabels(dfquant)\n",
    "\n",
    "# lets encode all the things! let's also play w/ this\n",
    "\n",
    "cat_for_color = df['island'].astype('category')\n",
    "sc = axd['scatter'].scatter('bill_length_mm', 'bill_depth_mm', s='flipper_length_mm', c=cat_for_color.cat.codes, alpha=.5, ec='k', data =df)\n",
    "handles, labels = sc.legend_elements()\n",
    "# https://matplotlib.org/stable/users/explain/axes/legend_guide.html\n",
    "axd['scatter'].legend(handles, cat_for_color.cat.categories, ncol=3, loc='upper center')\n",
    "\n",
    "# lets add a bar chart\n",
    "\n",
    "axd['bar'].bar(dfquant, df[dfquant].mean())\n",
    "axd['bar'].set_ylabel(\"mm\")\n",
    "\n",
    "\n",
    "#lets make the first objects that we'll update\n",
    "h = axd['heatmap'].axhline(0, color='red', alpha=.75)\n",
    "s = axd['scatter'].scatter('bill_length_mm', 'bill_depth_mm', s='flipper_length_mm', c=cats[df['island'][0]], alpha=.5, ec='r', linewidth=2, data=df.iloc[0])\n",
    "b = axd['bar'].bar(dfquant, df[dfquant].iloc[0], color='none', ec='r', lw=2)\n",
    "\n",
    "@interact(frame=df.index)\n",
    "def update(frame):\n",
    "    h.set_ydata([frame])\n",
    "    s.set_offsets((df['bill_length_mm'].iloc[frame], df['bill_depth_mm'].iloc[frame]))\n",
    "    s.set_sizes([df['flipper_length_mm'].iloc[frame]])\n",
    "    s.set_facecolor(s.cmap(s.norm(cats[df['island'][frame]]))) # have to convert the value into the color it expects\n",
    "    [bi.set_height(x) for bi, x in zip(b, df[dfquant].iloc[frame])] #update each bar independently\n",
    "    return h, s, b\n",
    "\n",
    "plt.show()"
   ]
  },
  {
   "cell_type": "code",
   "execution_count": null,
   "id": "8d8eea60-37e7-44f3-98bd-c4b331558510",
   "metadata": {},
   "outputs": [],
   "source": [
    "# What if I want to click things? Events! https://matplotlib.org/stable/users/explain/figure/event_handling.html\n",
    "fig, axd = plt.subplot_mosaic([['heatmap', 'scatter'],['heatmap', 'bar']], layout='constrained', figsize=(10,5))\n",
    "\n",
    "dfquant = ['bill_length_mm', 'bill_depth_mm', 'flipper_length_mm']\n",
    "\n",
    "### all code from above\n",
    "im = axd['heatmap'].pcolormesh(df[dfquant], picker=True)\n",
    "cax = fig.colorbar(im)\n",
    "axd['heatmap'].set_xticks([.5, 1.5, 2.5])\n",
    "axd['heatmap'].set_xticklabels(dfquant)\n",
    "\n",
    "# lets encode all the things! let's also play w/ this\n",
    "\n",
    "cat_for_color = df['island'].astype('category')\n",
    "sc = axd['scatter'].scatter('bill_length_mm', 'bill_depth_mm', s='flipper_length_mm',\n",
    "                            c=cat_for_color.cat.codes, alpha=.5, ec='k', data =df, picker=True)\n",
    "handles, labels = sc.legend_elements()\n",
    "# https://matplotlib.org/stable/users/explain/axes/legend_guide.html\n",
    "axd['scatter'].legend(handles, cat_for_color.cat.categories, ncol=3, loc='upper center')\n",
    "\n",
    "# lets add a bar chart\n",
    "\n",
    "axd['bar'].bar(dfquant, df[dfquant].mean())\n",
    "axd['bar'].set_ylabel(\"mm\")\n",
    "\n",
    "\n",
    "#lets make the first objects that we'll update\n",
    "h = axd['heatmap'].axhline(0, color='red', alpha=.75)\n",
    "s = axd['scatter'].scatter('bill_length_mm', 'bill_depth_mm', s='flipper_length_mm', c=cats[df['island'][0]], alpha=.5, ec='r', linewidth=2, data=df.iloc[0])\n",
    "b = axd['bar'].bar(dfquant, df[dfquant].iloc[0], color='none', ec='r', lw=2)\n",
    "\n",
    "def update(frame):\n",
    "    h.set_ydata([frame])\n",
    "    s.set_offsets((df['bill_length_mm'].iloc[frame], df['bill_depth_mm'].iloc[frame]))\n",
    "    s.set_sizes([df['flipper_length_mm'].iloc[frame]])\n",
    "    s.set_facecolor(s.cmap(s.norm(cats[df['island'][frame]]))) # have to convert the value into the color it expects\n",
    "    [bi.set_height(x) for bi, x in zip(b, df[dfquant].iloc[frame])] #update each bar independently\n",
    "    return h, s, b\n",
    "\n",
    "def on_click(event):\n",
    "    if event.inaxes:\n",
    "        event.inaxes.patch.set_facecolor('grey')\n",
    "    event.canvas.draw()\n",
    "    return\n",
    "    \n",
    "fig.canvas.mpl_connect('button_press_event', on_click)"
   ]
  },
  {
   "cell_type": "code",
   "execution_count": null,
   "id": "fd28a390-a1ea-4516-8f7f-90e531163e04",
   "metadata": {},
   "outputs": [],
   "source": []
  }
 ],
 "metadata": {
  "kernelspec": {
   "display_name": "Python 3 (ipykernel)",
   "language": "python",
   "name": "python3"
  },
  "language_info": {
   "codemirror_mode": {
    "name": "ipython",
    "version": 3
   },
   "file_extension": ".py",
   "mimetype": "text/x-python",
   "name": "python",
   "nbconvert_exporter": "python",
   "pygments_lexer": "ipython3",
   "version": "3.11.6"
  }
 },
 "nbformat": 4,
 "nbformat_minor": 5
}
